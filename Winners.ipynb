{
 "cells": [
  {
   "cell_type": "code",
   "execution_count": 2,
   "metadata": {},
   "outputs": [
    {
     "name": "stdout",
     "output_type": "stream",
     "text": [
      "174643\n",
      "[{'text': \"JLo's dress! #eredcarpet #GoldenGlobes\", 'user': {'screen_name': 'Dozaaa_xo', 'id': 557374298}, 'id': 290620657987887104, 'timestamp_ms': 1358124338000}, {'text': \"What's making Sofia Vergara's boobs stay like that? Magic? Witchcraft? #GoldenGlobes\", 'user': {'screen_name': 'theAmberShow', 'id': 14648726}, 'id': 290620657887219713, 'timestamp_ms': 1358124338000}]\n"
     ]
    }
   ],
   "source": [
    "import json\n",
    "\n",
    "def dataLoader(filename):\n",
    "    return json.load(open(filename))\n",
    "\n",
    "all_data = dataLoader('gg2013.json')\n",
    "print(len(all_data))\n",
    "print(all_data[0:2])"
   ]
  },
  {
   "cell_type": "code",
   "execution_count": 3,
   "metadata": {},
   "outputs": [
    {
     "name": "stdout",
     "output_type": "stream",
     "text": [
      "174643\n",
      "[\"jlo's dress! eredcarpet s\", \"what's making sofia vergara's boobs stay like that magic witchcraft s\"]\n"
     ]
    }
   ],
   "source": [
    "def dataExtracter(data, extract_type, symbol_to_remove):\n",
    "    tweetData = []\n",
    "    for eachData in data:\n",
    "        extracted_Data = eachData[extract_type].lower()\n",
    "        for eachSymbol in symbol_to_remove:\n",
    "            extracted_Data = extracted_Data.replace(eachSymbol,'')\n",
    "        tweetData.append(extracted_Data)\n",
    "    return tweetData\n",
    "\n",
    "extracted_text_data = dataExtracter(all_data,'text', ['#','?', 'golden', 'globe'])\n",
    "print(len(extracted_text_data))\n",
    "print(extracted_text_data[0:2])"
   ]
  },
  {
   "cell_type": "code",
   "execution_count": 4,
   "metadata": {},
   "outputs": [],
   "source": [
    "import re\n",
    "def regexExtracter(data, regex_string):\n",
    "    r=re.compile(regex_string)\n",
    "    extracted_data = []\n",
    "    for tweet in data:\n",
    "        if r.match(tweet):\n",
    "            extracted_data.append(tweet)\n",
    "    return extracted_data\n"
   ]
  },
  {
   "cell_type": "code",
   "execution_count": null,
   "metadata": {},
   "outputs": [],
   "source": [
    "def longest_common_substring(s1, s2):\n",
    "    m = [[0] * (1 + len(s2)) for i in range(1 + len(s1))]\n",
    "    longest, x_longest = 0, 0\n",
    "    for x in range(1, 1 + len(s1)):\n",
    "        for y in range(1, 1 + len(s2)):\n",
    "            if s1[x - 1] == s2[y - 1]:\n",
    "                m[x][y] = m[x - 1][y - 1] + 1\n",
    "                if m[x][y] > longest:\n",
    "                    longest = m[x][y]\n",
    "                    x_longest = x\n",
    "            else:\n",
    "                m[x][y] = 0\n",
    "    return s1[x_longest - longest: x_longest]"
   ]
  },
  {
   "cell_type": "markdown",
   "metadata": {},
   "source": [
    "# best motion picture - drama"
   ]
  },
  {
   "cell_type": "code",
   "execution_count": 21,
   "metadata": {},
   "outputs": [
    {
     "data": {
      "text/plain": [
       "'argo'"
      ]
     },
     "execution_count": 21,
     "metadata": {},
     "output_type": "execute_result"
    }
   ],
   "source": [
    "List = regexExtracter(extracted_text_data, '.*best motion picture - drama*.')\n",
    "countDic = {}\n",
    "for i in range(0, len(List)-1):\n",
    "    for j in range(i+1, len(List)):\n",
    "        longestString = longest_common_substring(List[i], List[j]).strip()\n",
    "        if longestString in countDic:\n",
    "            countDic[longestString] = countDic[longestString] + 1\n",
    "        else:\n",
    "            countDic[longestString] = 1\n",
    "\n",
    "s = sorted(countDic.items(), key=lambda x: x[1], reverse=True)\n",
    "\n",
    "list_of_words =\"\"\n",
    "for i in range(5):\n",
    "    list_of_words = list_of_words +\" \" + s[i][0]\n",
    "\n",
    "list_of_words = list_of_words.split()\n",
    "\n",
    "answer =[]\n",
    "for i in range(len(list_of_words)):\n",
    "    if list_of_words[i] ==\"drama\" and list_of_words[i+1] =='-':\n",
    "        answer.append(list_of_words[i+2])\n",
    "        \n",
    "def most_common(lst):\n",
    "    return max(set(lst), key=lst.count)\n",
    "\n",
    "most_common(answer)"
   ]
  },
  {
   "cell_type": "markdown",
   "metadata": {},
   "source": [
    "# best performance by an actress in a motion picture - drama"
   ]
  },
  {
   "cell_type": "code",
   "execution_count": 23,
   "metadata": {},
   "outputs": [
    {
     "data": {
      "text/plain": [
       "'jessica chastain'"
      ]
     },
     "execution_count": 23,
     "metadata": {},
     "output_type": "execute_result"
    }
   ],
   "source": [
    "List = regexExtracter(extracted_text_data, '.*actress in a motion picture - drama*.')\n",
    "countDic = {}\n",
    "for i in range(0, len(List)-1):\n",
    "    for j in range(i+1, len(List)):\n",
    "        longestString = longest_common_substring(List[i], List[j]).strip()\n",
    "        if longestString in countDic:\n",
    "            countDic[longestString] = countDic[longestString] + 1\n",
    "        else:\n",
    "            countDic[longestString] = 1\n",
    "\n",
    "s = sorted(countDic.items(), key=lambda x: x[1], reverse=True)\n",
    "\n",
    "list_of_words =\"\"\n",
    "for i in range(5):\n",
    "    list_of_words = list_of_words +\" \" + s[i][0]\n",
    "\n",
    "list_of_words = list_of_words.split()\n",
    "\n",
    "answer =[]\n",
    "for i in range(len(list_of_words)):\n",
    "    if list_of_words[i] ==\"drama\" and list_of_words[i+1] =='-':\n",
    "        answer.append(list_of_words[i+2] + \" \" + list_of_words[i+3])\n",
    "        \n",
    "def most_common(lst):\n",
    "    return max(set(lst), key=lst.count)\n",
    "\n",
    "most_common(answer)"
   ]
  },
  {
   "cell_type": "markdown",
   "metadata": {},
   "source": [
    "# best performance by an actor in a motion picture - drama"
   ]
  },
  {
   "cell_type": "code",
   "execution_count": 27,
   "metadata": {},
   "outputs": [
    {
     "data": {
      "text/plain": [
       "'daniel day'"
      ]
     },
     "execution_count": 27,
     "metadata": {},
     "output_type": "execute_result"
    }
   ],
   "source": [
    "List = regexExtracter(extracted_text_data, '.*actor in a motion picture - drama*.')\n",
    "countDic = {}\n",
    "for i in range(0, len(List)-1):\n",
    "    for j in range(i+1, len(List)):\n",
    "        longestString = longest_common_substring(List[i], List[j]).strip()\n",
    "        if longestString in countDic:\n",
    "            countDic[longestString] = countDic[longestString] + 1\n",
    "        else:\n",
    "            countDic[longestString] = 1\n",
    "\n",
    "s = sorted(countDic.items(), key=lambda x: x[1], reverse=True)\n",
    "\n",
    "list_of_words =\"\"\n",
    "for i in range(5):\n",
    "    list_of_words = list_of_words +\" \" + s[i][0]\n",
    "\n",
    "list_of_words = list_of_words.split()\n",
    "\n",
    "answer =[]\n",
    "for i in range(len(list_of_words)-3):\n",
    "    \n",
    "    if list_of_words[i] ==\"drama\" and list_of_words[i+1] =='-':\n",
    "        answer.append(list_of_words[i+2] + \" \" + list_of_words[i+3])\n",
    "        \n",
    "def most_common(lst):\n",
    "    return max(set(lst), key=lst.count)\n",
    "\n",
    "most_common(answer)"
   ]
  },
  {
   "cell_type": "markdown",
   "metadata": {},
   "source": [
    "# best motion picture - comedy or musical"
   ]
  },
  {
   "cell_type": "code",
   "execution_count": 31,
   "metadata": {},
   "outputs": [
    {
     "ename": "ValueError",
     "evalue": "max() arg is an empty sequence",
     "output_type": "error",
     "traceback": [
      "\u001b[0;31m---------------------------------------------------------------------------\u001b[0m",
      "\u001b[0;31mValueError\u001b[0m                                Traceback (most recent call last)",
      "\u001b[0;32m<ipython-input-31-5492a1e20475>\u001b[0m in \u001b[0;36m<module>\u001b[0;34m\u001b[0m\n\u001b[1;32m     26\u001b[0m     \u001b[0;32mreturn\u001b[0m \u001b[0mmax\u001b[0m\u001b[0;34m(\u001b[0m\u001b[0mset\u001b[0m\u001b[0;34m(\u001b[0m\u001b[0mlst\u001b[0m\u001b[0;34m)\u001b[0m\u001b[0;34m,\u001b[0m \u001b[0mkey\u001b[0m\u001b[0;34m=\u001b[0m\u001b[0mlst\u001b[0m\u001b[0;34m.\u001b[0m\u001b[0mcount\u001b[0m\u001b[0;34m)\u001b[0m\u001b[0;34m\u001b[0m\u001b[0;34m\u001b[0m\u001b[0m\n\u001b[1;32m     27\u001b[0m \u001b[0;34m\u001b[0m\u001b[0m\n\u001b[0;32m---> 28\u001b[0;31m \u001b[0mmost_common\u001b[0m\u001b[0;34m(\u001b[0m\u001b[0manswer\u001b[0m\u001b[0;34m)\u001b[0m\u001b[0;34m\u001b[0m\u001b[0;34m\u001b[0m\u001b[0m\n\u001b[0m",
      "\u001b[0;32m<ipython-input-31-5492a1e20475>\u001b[0m in \u001b[0;36mmost_common\u001b[0;34m(lst)\u001b[0m\n\u001b[1;32m     24\u001b[0m \u001b[0;34m\u001b[0m\u001b[0m\n\u001b[1;32m     25\u001b[0m \u001b[0;32mdef\u001b[0m \u001b[0mmost_common\u001b[0m\u001b[0;34m(\u001b[0m\u001b[0mlst\u001b[0m\u001b[0;34m)\u001b[0m\u001b[0;34m:\u001b[0m\u001b[0;34m\u001b[0m\u001b[0;34m\u001b[0m\u001b[0m\n\u001b[0;32m---> 26\u001b[0;31m     \u001b[0;32mreturn\u001b[0m \u001b[0mmax\u001b[0m\u001b[0;34m(\u001b[0m\u001b[0mset\u001b[0m\u001b[0;34m(\u001b[0m\u001b[0mlst\u001b[0m\u001b[0;34m)\u001b[0m\u001b[0;34m,\u001b[0m \u001b[0mkey\u001b[0m\u001b[0;34m=\u001b[0m\u001b[0mlst\u001b[0m\u001b[0;34m.\u001b[0m\u001b[0mcount\u001b[0m\u001b[0;34m)\u001b[0m\u001b[0;34m\u001b[0m\u001b[0;34m\u001b[0m\u001b[0m\n\u001b[0m\u001b[1;32m     27\u001b[0m \u001b[0;34m\u001b[0m\u001b[0m\n\u001b[1;32m     28\u001b[0m \u001b[0mmost_common\u001b[0m\u001b[0;34m(\u001b[0m\u001b[0manswer\u001b[0m\u001b[0;34m)\u001b[0m\u001b[0;34m\u001b[0m\u001b[0;34m\u001b[0m\u001b[0m\n",
      "\u001b[0;31mValueError\u001b[0m: max() arg is an empty sequence"
     ]
    }
   ],
   "source": [
    "List = regexExtracter(extracted_text_data, '.*best animated feature film*.')\n",
    "countDic = {}\n",
    "for i in range(0, len(List)-1):\n",
    "    for j in range(i+1, len(List)):\n",
    "        longestString = longest_common_substring(List[i], List[j]).strip()\n",
    "        if longestString in countDic:\n",
    "            countDic[longestString] = countDic[longestString] + 1\n",
    "        else:\n",
    "            countDic[longestString] = 1\n",
    "\n",
    "s = sorted(countDic.items(), key=lambda x: x[1], reverse=True)\n",
    "\n",
    "list_of_words =\"\"\n",
    "for i in range(5):\n",
    "    list_of_words = list_of_words +\" \" + s[i][0]\n",
    "\n",
    "list_of_words = list_of_words.split()\n",
    "\n",
    "answer =[]\n",
    "for i in range(len(list_of_words)-3):\n",
    "    \n",
    "    if list_of_words[i] ==\"drama\" and list_of_words[i+1] =='-':\n",
    "        answer.append(list_of_words[i+2])\n",
    "        \n",
    "def most_common(lst):\n",
    "    return max(set(lst), key=lst.count)\n",
    "\n",
    "most_common(answer)"
   ]
  }
 ],
 "metadata": {
  "kernelspec": {
   "display_name": "Python 3",
   "language": "python",
   "name": "python3"
  },
  "language_info": {
   "codemirror_mode": {
    "name": "ipython",
    "version": 3
   },
   "file_extension": ".py",
   "mimetype": "text/x-python",
   "name": "python",
   "nbconvert_exporter": "python",
   "pygments_lexer": "ipython3",
   "version": "3.6.8"
  }
 },
 "nbformat": 4,
 "nbformat_minor": 2
}
