{
 "cells": [
  {
   "cell_type": "code",
   "execution_count": 34,
   "metadata": {},
   "outputs": [
    {
     "name": "stdout",
     "output_type": "stream",
     "text": [
      "174643\n",
      "{'text': 'A suave Damian Lewis backstage at the #GoldenGlobes http://t.co/lNwQKYDx', 'user': {'screen_name': 'goldenglobes', 'id': 18667907}, 'id': 290647149803343873, 'timestamp_ms': 1358130655000}\n",
      "{'text': 'Backstage with Lena Dunham and her Golden Globe. #goldenglobes http://t.co/1SmYgF1R', 'user': {'screen_name': 'goldenglobes', 'id': 18667907}, 'id': 290665132042907648, 'timestamp_ms': 1358134942000}\n",
      "{'text': 'Best Actress in a Motion Picture - Drama - Jessica Chastain - Zero Dark Thirty - #GoldenGlobes', 'user': {'screen_name': 'goldenglobes', 'id': 18667907}, 'id': 290666469648396288, 'timestamp_ms': 1358135261000}\n",
      "{'text': 'Says @RealHughJackman: \"Tom Hooper and the gang have redefined the movie musical...\" #GoldenGlobes #pressroom', 'user': {'screen_name': 'goldenglobes', 'id': 18667907}, 'id': 290669799405670403, 'timestamp_ms': 1358136055000}\n",
      "{'text': 'Says @BenAffleck: \"I also didn\\'t get the Acting Nomination...no one\\'s saying I got snubbed there!\" #pressroom #GoldenGlobes', 'user': {'screen_name': 'goldenglobes', 'id': 18667907}, 'id': 290675893494484992, 'timestamp_ms': 1358137508000}\n",
      "5\n"
     ]
    }
   ],
   "source": [
    "import json\n",
    "\n",
    "def dataLoader(filename):\n",
    "    return json.load(open(filename))\n",
    "\n",
    "all_data = dataLoader('data/gg2013.json')\n",
    "print(len(all_data))\n",
    "#print(all_data[0:2])\n",
    "count = 0\n",
    "for tweet in all_data:\n",
    "    if tweet['user']['screen_name'] == 'goldenglobes':\n",
    "        print(tweet)\n",
    "        count+=1\n",
    "print(count)"
   ]
  },
  {
   "cell_type": "code",
   "execution_count": 37,
   "metadata": {},
   "outputs": [
    {
     "name": "stdout",
     "output_type": "stream",
     "text": [
      "174643\n",
      "[\"JLo's dress! eredcarpet GoldenGlobes\", \"What's making Sofia Vergara's boobs stay like that Magic Witchcraft GoldenGlobes\"]\n"
     ]
    }
   ],
   "source": [
    "def dataExtracter(data, extract_type, symbol_to_remove):\n",
    "    tweetData = []\n",
    "    for eachData in data:\n",
    "        extracted_Data = eachData[extract_type]\n",
    "        for eachSymbol in symbol_to_remove:\n",
    "            extracted_Data = extracted_Data.replace(eachSymbol,'')\n",
    "        tweetData.append(extracted_Data)\n",
    "    return tweetData\n",
    "\n",
    "extracted_text_data = dataExtracter(all_data,'text', ['#','?', 'golden', 'globe'])\n",
    "print(len(extracted_text_data))\n",
    "print(extracted_text_data[0:2])"
   ]
  },
  {
   "cell_type": "code",
   "execution_count": 38,
   "metadata": {},
   "outputs": [],
   "source": [
    "import re\n",
    "\n",
    "def regexExtracter(data, regex_string):\n",
    "    r=re.compile(regex_string)\n",
    "    extracted_data = []\n",
    "    for tweet in data:\n",
    "        if r.match(tweet):\n",
    "            extracted_data.append(tweet)\n",
    "    return extracted_data\n"
   ]
  },
  {
   "cell_type": "code",
   "execution_count": 39,
   "metadata": {},
   "outputs": [],
   "source": [
    "OFFICIAL_AWARDS = ['cecil b. demille award', \n",
    "                   'best motion picture - drama', \n",
    "                   'best performance by an actress in a motion picture - drama', \n",
    "                   'best performance by an actor in a motion picture - drama', \n",
    "                   'best motion picture - comedy or musical', \n",
    "                   'best performance by an actress in a motion picture - comedy or musical', \n",
    "                   'best performance by an actor in a motion picture - comedy or musical', \n",
    "                   'best animated feature film', \n",
    "                   'best foreign language film', \n",
    "                   'best performance by an actress in a supporting role in a motion picture', \n",
    "                   'best performance by an actor in a supporting role in a motion picture', \n",
    "                   'best director - motion picture', \n",
    "                   'best screenplay - motion picture', \n",
    "                   'best original score - motion picture', \n",
    "                   'best original song - motion picture', \n",
    "                   'best television series - drama', \n",
    "                   'best performance by an actress in a television series - drama', \n",
    "                   'best performance by an actor in a television series - drama', \n",
    "                   'best television series - comedy or musical', \n",
    "                   'best performance by an actress in a television series - comedy or musical', \n",
    "                   'best performance by an actor in a television series - comedy or musical', \n",
    "                   'best mini-series or motion picture made for television', \n",
    "                   'best performance by an actress in a mini-series or motion picture made for television', \n",
    "                   'best performance by an actor in a mini-series or motion picture made for television', \n",
    "                   'best performance by an actress in a supporting role in a series, mini-series or motion picture made for television', \n",
    "                   'best performance by an actor in a supporting role in a series, mini-series or motion picture made for television']\n"
   ]
  },
  {
   "cell_type": "code",
   "execution_count": 40,
   "metadata": {},
   "outputs": [
    {
     "name": "stdout",
     "output_type": "stream",
     "text": [
      "676\n",
      "[\"RT @TV3Xpose: What's your verdict on @ENews presenter Giuliana Rancic's Oriett Domenech dress s http://t.co/lesP5H0F\", \"THISSSSSSSSSS RT @as_seenontv It's appalling that Kerry Washington is there only as a presenter and not as a nominee. GoldenGlobes Scandal\", 'Jay Leno a presenter ERedCarpet GoldenGlobes http://t.co/CG30b1rp', 'RT @EricaDeLong: GoldenGlobes EricaRedCarpet Dustin Hoffman wins best personality on the red carpet tonight.  He is a presenter &amp; His movie opens jan 25th', \"RT @YoshikiOfficial: http://t.co/CLvf9y3f\\u3000Golden Globes News! I'm presenting the award on stage!! Can't tell you what category but Watch the show!! Love you!\"]\n"
     ]
    }
   ],
   "source": [
    "presentersList = regexExtracter(extracted_text_data, '.*present(er|ers|ing)+.*')\n",
    "print(len(presentersList))\n",
    "print(presentersList[0:5])"
   ]
  },
  {
   "cell_type": "code",
   "execution_count": 46,
   "metadata": {},
   "outputs": [
    {
     "name": "stdout",
     "output_type": "stream",
     "text": [
      "830\n",
      "['Giuliana Rancic', 'Oriett Domenech', 'THISSSSSSSSSS RT', 'Kerry Washington', 'GoldenGlobes Scandal', 'Jay Leno', 'ERedCarpet GoldenGlobes', 'GoldenGlobes EricaRedCarpet', 'Dustin Hoffman', 'CLvf9y3f\\u3000Golden', 'Globes News', 'GoldenGlobes I', 'Kerry Washington', 'Golden Globes', 'Tina Fey', 'Amy Poehler', 'Tina Fey', 'Amy Poehler', 'Golden Globes', 'Amy Poehler', 'Tina Fey', 'Bradley Cooper', 'Kate Hudson', 'JefeMuchoGrande Amen2that', 'Red Carpet', 'Kate Hudson', 'Dennis Quaid', 'Kerry Washington', 'Golden Globes', 'Amy Poehler', 'Tina Fey', 'TheEllenShow DENNIS', 'QUAID IS', 'Golden Globes', 'Golden Globes', 'Golden Globes', 'Bradley Cooper', 'Kate Hudson', 'Mariska Hargitay', 'Christopher Meloni', 'Bruce Jenner', 'Kerry Washington', 'GoldenGlobes Oh', 'Dennis Quaid', 'Kim Kardashian', 'Don Cheatle', 'Eva Longoria', 'Golden Globes', 'Mark Sanchez', 'CLvf9y3f\\u3000Golden']\n"
     ]
    }
   ],
   "source": [
    "presenterNames = []\n",
    "pattern = re.compile(r'[A-Z]\\w*\\s[A-Z]\\w*')\n",
    "for i in presentersList:\n",
    "    matches = pattern.finditer(i)\n",
    "    for match in matches:\n",
    "        presenterNames.append(match.group(0))\n",
    "print(len(presenterNames))\n",
    "print(presenterNames[0:50])"
   ]
  },
  {
   "cell_type": "code",
   "execution_count": null,
   "metadata": {},
   "outputs": [],
   "source": []
  },
  {
   "cell_type": "code",
   "execution_count": null,
   "metadata": {},
   "outputs": [],
   "source": []
  }
 ],
 "metadata": {
  "kernelspec": {
   "display_name": "Python 3",
   "language": "python",
   "name": "python3"
  },
  "language_info": {
   "codemirror_mode": {
    "name": "ipython",
    "version": 3
   },
   "file_extension": ".py",
   "mimetype": "text/x-python",
   "name": "python",
   "nbconvert_exporter": "python",
   "pygments_lexer": "ipython3",
   "version": "3.7.2"
  }
 },
 "nbformat": 4,
 "nbformat_minor": 2
}
