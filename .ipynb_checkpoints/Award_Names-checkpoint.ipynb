{
 "cells": [
  {
   "cell_type": "code",
   "execution_count": 2,
   "metadata": {},
   "outputs": [],
   "source": [
    "import json\n",
    "from pprint import pprint\n",
    "import re, nltk\n",
    "from collections import Counter\n",
    "\n",
    "\n",
    "\n"
   ]
  },
  {
   "cell_type": "code",
   "execution_count": 5,
   "metadata": {},
   "outputs": [],
   "source": [
    "with open('data/gg2013.json') as f:\n",
    "    data = json.load(f)\n"
   ]
  },
  {
   "cell_type": "code",
   "execution_count": 6,
   "metadata": {},
   "outputs": [],
   "source": [
    "tweets = []\n",
    "for d in data:\n",
    "    tweets.append(d['text'])\n"
   ]
  },
  {
   "cell_type": "code",
   "execution_count": 7,
   "metadata": {},
   "outputs": [],
   "source": [
    "tweets = list(set(tweets))"
   ]
  },
  {
   "cell_type": "code",
   "execution_count": 8,
   "metadata": {},
   "outputs": [],
   "source": [
    "OFFICIAL_AWARDS = ['cecil b. demille award', \n",
    "                   'best motion picture - drama', \n",
    "                   'best performance by an actress in a motion picture - drama', \n",
    "                   'best performance by an actor in a motion picture - drama', \n",
    "                   'best motion picture - comedy or musical', \n",
    "                   'best performance by an actress in a motion picture - comedy or musical', \n",
    "                   'best performance by an actor in a motion picture - comedy or musical', \n",
    "                   'best animated feature film', \n",
    "                   'best foreign language film', \n",
    "                   'best performance by an actress in a supporting role in a motion picture', \n",
    "                   'best performance by an actor in a supporting role in a motion picture', \n",
    "                   'best director - motion picture', \n",
    "                   'best screenplay - motion picture', \n",
    "                   'best original score - motion picture', \n",
    "                   'best original song - motion picture', \n",
    "                   'best television series - drama', \n",
    "                   'best performance by an actress in a television series - drama', \n",
    "                   'best performance by an actor in a television series - drama', \n",
    "                   'best television series - comedy or musical', \n",
    "                   'best performance by an actress in a television series - comedy or musical', \n",
    "                   'best performance by an actor in a television series - comedy or musical', \n",
    "                   'best mini-series or motion picture made for television', \n",
    "                   'best performance by an actress in a mini-series or motion picture made for television', \n",
    "                   'best performance by an actor in a mini-series or motion picture made for television', \n",
    "                   'best performance by an actress in a supporting role in a series, mini-series or motion picture made for television', \n",
    "                   'best performance by an actor in a supporting role in a series, mini-series or motion picture made for television']\n"
   ]
  },
  {
   "cell_type": "code",
   "execution_count": 9,
   "metadata": {},
   "outputs": [],
   "source": [
    "host_pat = re.compile(\" [Hh]ost\")\n",
    "win_pat = re.compile(\"w[io]n|takes\")\n",
    "pn2_pat= re.compile(\"[A-Z][a-z]+ [A-Z]\\S+\")\n",
    "rt = re.compile(\"rt\")\n",
    "award_related_pat = re.compile(\"best\")\n",
    "act_pat = re.compile(\"act\")\n",
    "punctuation = re.compile(r'[^\\w\\s]')\n",
    "name_pattern = re.compile(r'\\b[A-Z][a-z]*\\b(?:\\s+[A-Z][a-z]*\\b)*')\n",
    "name_with_lower = re.compile(r'\\b[A-Z][a-z]*\\b(?:\\s+[a-z]*\\b){1,2}(?:\\s+[A-Z][a-z]*\\b)+')\n",
    "pnx_pat= re.compile(r'\\b[A-Z]\\S+\\b(?:\\s+[A-Z]\\S*\\b)*')\n"
   ]
  },
  {
   "cell_type": "code",
   "execution_count": 11,
   "metadata": {},
   "outputs": [],
   "source": [
    "# pre-processing, you can type in each of the list names to see exactly what's being pulled out\n",
    "best_split = []\n",
    "for i in tweets:\n",
    "    split = re.compile(r'wins best').split(i)\n",
    "    if len(split) > 1:\n",
    "        best_split.append(split[1])"
   ]
  },
  {
   "cell_type": "code",
   "execution_count": 12,
   "metadata": {},
   "outputs": [],
   "source": [
    "end_split = []\n",
    "for i in best_split:\n",
    "    split = punctuation.split(i)\n",
    "    end_split.append(split[0])"
   ]
  },
  {
   "cell_type": "code",
   "execution_count": 13,
   "metadata": {},
   "outputs": [],
   "source": [
    "es2 = []\n",
    "for i in end_split:\n",
    "    split = re.compile(r'for').split(i)\n",
    "    es2.append(split[0])\n"
   ]
  },
  {
   "cell_type": "code",
   "execution_count": 14,
   "metadata": {},
   "outputs": [],
   "source": [
    "no_space = []\n",
    "for i in es2:\n",
    "    if len(i.split()) == 1:\n",
    "        pass\n",
    "    else : no_space.append(i.strip())\n"
   ]
  },
  {
   "cell_type": "code",
   "execution_count": 15,
   "metadata": {},
   "outputs": [],
   "source": [
    "important_words = []\n",
    "for i in set(no_space):\n",
    "    words = []\n",
    "    for j in i.split():\n",
    "        if len(j) > 3:\n",
    "            words.append(j)\n",
    "    important_words.append(words)\n",
    "    "
   ]
  },
  {
   "cell_type": "code",
   "execution_count": 16,
   "metadata": {},
   "outputs": [],
   "source": [
    "answers = []\n",
    "\n",
    "# same functions from our other file\n",
    "def tokenize(str):\n",
    "    punctuation = re.compile(r'[^\\w\\s]')\n",
    "    unpunctuated = re.sub(punctuation,'',str)\n",
    "    processed = []\n",
    "    for i in unpunctuated.lower().split():\n",
    "        if len(i) < 4: pass\n",
    "        else:\n",
    "            processed.append(i)\n",
    "            if i == \"television\": processed.append(\"tv\")\n",
    "            if i == \"tv\": processed.append(\"television\")\n",
    "            if i == \"motion picture\": processed.append(\"movie\")\n",
    "            if i == \"movie\": processed.append(\"motion picture\")\n",
    "    return set(processed)"
   ]
  },
  {
   "cell_type": "code",
   "execution_count": 17,
   "metadata": {},
   "outputs": [],
   "source": [
    "def award_length(a):\n",
    "    words = set()\n",
    "    for w in tokenize(a):\n",
    "        if len(w) <= 3:pass\n",
    "        if w == \"award\": pass\n",
    "        else:\n",
    "            words.add(w)\n",
    "    return len(words)"
   ]
  },
  {
   "cell_type": "code",
   "execution_count": 18,
   "metadata": {},
   "outputs": [],
   "source": [
    "sorted_awards = sorted(OFFICIAL_AWARDS, key=award_length)"
   ]
  },
  {
   "cell_type": "code",
   "execution_count": 19,
   "metadata": {},
   "outputs": [
    {
     "name": "stdout",
     "output_type": "stream",
     "text": [
      "[3, 4, 4, 4, 4, 4, 5, 5, 5, 5, 6, 6, 6, 7, 7, 7, 7, 7, 7, 7, 8, 8, 9, 9, 12, 12]\n"
     ]
    }
   ],
   "source": [
    "print([len(tokenize(a)) for a in sorted_awards])"
   ]
  },
  {
   "cell_type": "code",
   "execution_count": 20,
   "metadata": {},
   "outputs": [],
   "source": [
    "# take the intersection of the tweet and each award, return the name with most matches. ties go to shortest award name (that's why it's sorted)\n",
    "def classify(tweet):\n",
    "    num_overlap = [len(tokenize(tweet).intersection(tokenize(a))) for a in sorted_awards]  #array that contains number of overlapping words, mapped to sorted_awards\n",
    "    if max(num_overlap) > 1:  #if we're able to match more than one word\n",
    "        return sorted_awards[num_overlap.index(max(num_overlap))]  #grab the first (and thus shortest) award name that matches max(num_overlap) times\n",
    "    else:\n",
    "        return None\n",
    "    "
   ]
  },
  {
   "cell_type": "code",
   "execution_count": 21,
   "metadata": {},
   "outputs": [
    {
     "name": "stdout",
     "output_type": "stream",
     "text": [
      "the number of distinct awards returned: \n",
      "23\n"
     ]
    }
   ],
   "source": [
    "answers = [classify(i) for i in best_split]\n",
    "print('the number of distinct awards returned: ')\n",
    "print(len(set(answers)) - 1)    "
   ]
  },
  {
   "cell_type": "code",
   "execution_count": 22,
   "metadata": {},
   "outputs": [
    {
     "name": "stdout",
     "output_type": "stream",
     "text": [
      "['best television series - comedy or musical', None, None, None, None, None, 'best performance by an actress in a motion picture - comedy or musical', 'best performance by an actress in a supporting role in a motion picture', None, 'best foreign language film', 'best performance by an actor in a supporting role in a series, mini-series or motion picture made for television', None, 'best animated feature film', 'best original song - motion picture', 'best television series - comedy or musical', None, 'best television series - drama', 'best performance by an actress in a motion picture - drama', None, None, None, None, 'best performance by an actor in a motion picture - comedy or musical', None, None, None, 'best animated feature film', None, None, 'best motion picture - drama', 'best performance by an actor in a motion picture - drama', None, 'best performance by an actress in a motion picture - drama', 'best performance by an actor in a motion picture - drama', 'best performance by an actress in a motion picture - drama', 'best performance by an actress in a motion picture - comedy or musical', 'best performance by an actress in a motion picture - comedy or musical', 'best performance by an actress in a motion picture - drama', None, 'best performance by an actor in a motion picture - drama', None, None, 'best original song - motion picture', 'best foreign language film', 'best performance by an actress in a supporting role in a motion picture', 'best motion picture - drama', None, 'best original song - motion picture', None, 'best performance by an actress in a motion picture - comedy or musical', 'best motion picture - comedy or musical', 'best original song - motion picture', 'best motion picture - comedy or musical', None, 'best original song - motion picture', 'best performance by an actress in a television series - comedy or musical', None, None, None, None, 'best performance by an actor in a motion picture - drama', 'best performance by an actress in a motion picture - drama', 'best motion picture - comedy or musical', 'best performance by an actor in a supporting role in a series, mini-series or motion picture made for television', 'best original song - motion picture', None, 'best motion picture - comedy or musical', None, 'best motion picture - drama', None, 'best performance by an actor in a motion picture - drama', 'best performance by an actress in a motion picture - drama', None, 'best performance by an actor in a motion picture - drama', 'best foreign language film', 'best performance by an actress in a television series - comedy or musical', None, 'best foreign language film', None, None, 'best television series - drama', 'best performance by an actress in a supporting role in a motion picture', 'best television series - comedy or musical', 'best performance by an actor in a motion picture - comedy or musical', None, 'best foreign language film', 'best performance by an actress in a motion picture - drama', None, None, 'best performance by an actress in a supporting role in a motion picture', None, None, 'best performance by an actor in a supporting role in a motion picture', 'best motion picture - comedy or musical', 'best performance by an actress in a supporting role in a motion picture', None, None, None, None, 'best performance by an actor in a supporting role in a motion picture', 'best motion picture - drama', None, 'best performance by an actor in a television series - drama', None, 'best performance by an actress in a television series - comedy or musical', 'best motion picture - comedy or musical', 'best performance by an actor in a motion picture - comedy or musical', 'best performance by an actor in a motion picture - drama', 'best performance by an actor in a motion picture - drama', 'best performance by an actress in a supporting role in a motion picture', 'best performance by an actor in a supporting role in a motion picture', 'best performance by an actress in a motion picture - comedy or musical', None, 'best performance by an actress in a motion picture - drama', 'best performance by an actor in a supporting role in a motion picture', 'best performance by an actress in a supporting role in a motion picture', 'best motion picture - comedy or musical', 'best performance by an actress in a television series - comedy or musical', 'best motion picture - drama', 'best performance by an actor in a motion picture - comedy or musical', None, None, None, 'best performance by an actress in a mini-series or motion picture made for television', 'best original song - motion picture', 'best performance by an actress in a motion picture - drama', None, 'best original song - motion picture', 'best motion picture - drama', 'best motion picture - comedy or musical', 'best original song - motion picture', None, 'best performance by an actress in a supporting role in a motion picture', None, None, 'best motion picture - comedy or musical', 'best performance by an actor in a motion picture - drama', None, 'best performance by an actor in a television series - comedy or musical', 'best performance by an actress in a motion picture - drama', 'best performance by an actor in a supporting role in a motion picture', None, None, None, 'best motion picture - drama', None, None, None, 'best performance by an actress in a motion picture - comedy or musical', 'best performance by an actress in a television series - comedy or musical', None, 'best performance by an actress in a motion picture - drama', 'best performance by an actress in a motion picture - drama', 'best performance by an actress in a motion picture - comedy or musical', 'best original song - motion picture', None, None, None, None, 'best performance by an actress in a supporting role in a motion picture', 'best performance by an actress in a television series - drama', None, None, None, 'best original song - motion picture', 'best television series - drama', 'best performance by an actor in a motion picture - drama', None, None, None, 'best performance by an actress in a supporting role in a motion picture', None, None, 'best motion picture - comedy or musical', None, 'best television series - drama', 'best performance by an actress in a motion picture - drama', 'best motion picture - drama', None, 'best motion picture - drama', 'best performance by an actress in a motion picture - comedy or musical', None, 'best performance by an actor in a motion picture - drama', 'best performance by an actor in a motion picture - drama', 'best television series - comedy or musical', 'best performance by an actor in a motion picture - drama', None, 'best performance by an actress in a motion picture - comedy or musical', None, 'best performance by an actor in a motion picture - comedy or musical', None, 'best performance by an actor in a motion picture - comedy or musical', 'best motion picture - comedy or musical', None, None, None, None, None, 'best television series - comedy or musical', 'best performance by an actor in a motion picture - drama', 'best performance by an actress in a television series - drama', 'best performance by an actress in a motion picture - drama', 'best performance by an actor in a television series - comedy or musical', None, None, None, None, None, 'best performance by an actress in a motion picture - drama', 'best performance by an actress in a supporting role in a motion picture', None, None, 'best original song - motion picture', 'best foreign language film', 'best performance by an actor in a motion picture - drama', 'best performance by an actress in a motion picture - comedy or musical', 'best performance by an actress in a motion picture - comedy or musical', 'best animated feature film', None, None, 'best foreign language film', None, None, None, 'best original song - motion picture', None, None, None, None, None, 'best animated feature film', None, 'best original song - motion picture', None, 'best screenplay - motion picture', None, None, None, 'best television series - drama', 'best motion picture - comedy or musical', 'best original song - motion picture', None, 'best animated feature film', 'best television series - drama', None, None, 'best performance by an actress in a television series - comedy or musical', 'best animated feature film', 'best performance by an actress in a motion picture - comedy or musical', None, 'best original score - motion picture', None, None, None, None, 'best performance by an actor in a supporting role in a motion picture', None, 'best performance by an actor in a motion picture - drama', 'best motion picture - comedy or musical', None, None, None, 'best director - motion picture', None, 'best animated feature film', 'best performance by an actress in a motion picture - drama', 'best performance by an actor in a motion picture - comedy or musical', 'best performance by an actor in a motion picture - drama', 'best performance by an actor in a motion picture - comedy or musical', None, 'best motion picture - drama', 'best performance by an actress in a television series - drama', 'best performance by an actress in a motion picture - drama', 'best original song - motion picture', None, 'best performance by an actress in a television series - drama', 'best television series - comedy or musical', 'best performance by an actress in a television series - comedy or musical', 'best original song - motion picture', None, None, 'best foreign language film', 'best television series - drama', None, 'best performance by an actor in a supporting role in a motion picture', None, 'best motion picture - drama', 'best performance by an actress in a motion picture - comedy or musical', 'best original song - motion picture', None, 'best performance by an actor in a supporting role in a motion picture', 'best performance by an actor in a supporting role in a motion picture', 'best performance by an actress in a motion picture - comedy or musical', 'best performance by an actor in a motion picture - drama', 'best original score - motion picture', None, None, None, 'best television series - comedy or musical', None, 'best motion picture - drama', None, None, None, None, None, None, None, 'best performance by an actress in a supporting role in a motion picture', None, 'best performance by an actress in a motion picture - comedy or musical', 'best performance by an actress in a television series - drama', None, 'best performance by an actress in a motion picture - comedy or musical', 'best motion picture - drama', None, None, 'best performance by an actress in a motion picture - drama', 'best performance by an actress in a television series - drama', None, 'best original song - motion picture', None, 'best motion picture - comedy or musical', 'best performance by an actress in a supporting role in a motion picture', 'best performance by an actress in a television series - drama', None, 'best motion picture - drama', None, None, None, None, 'best original score - motion picture', 'best original song - motion picture', 'best television series - comedy or musical', None, None, 'best performance by an actor in a supporting role in a motion picture', None, None, None, None, 'best performance by an actor in a supporting role in a motion picture', None, None, 'best performance by an actress in a motion picture - comedy or musical', 'best performance by an actor in a supporting role in a motion picture', None, 'best performance by an actress in a supporting role in a motion picture', None, 'best screenplay - motion picture', 'best performance by an actress in a motion picture - comedy or musical', 'best performance by an actress in a supporting role in a motion picture', None, 'best screenplay - motion picture', 'best performance by an actress in a supporting role in a motion picture', 'best performance by an actress in a motion picture - drama', None, 'best performance by an actor in a supporting role in a motion picture', None, None, 'best performance by an actress in a supporting role in a motion picture', 'best motion picture - comedy or musical', 'best performance by an actress in a motion picture - comedy or musical', 'best performance by an actor in a motion picture - comedy or musical', None, 'best motion picture - drama', 'best performance by an actor in a television series - comedy or musical', None, 'best animated feature film', None, 'best performance by an actor in a television series - comedy or musical', 'best performance by an actor in a motion picture - drama', 'best motion picture - comedy or musical', 'best motion picture - comedy or musical', None, None, 'best performance by an actress in a supporting role in a motion picture', 'best performance by an actress in a television series - drama', 'best performance by an actor in a motion picture - drama', 'best performance by an actress in a motion picture - comedy or musical', None, 'best performance by an actor in a supporting role in a motion picture', None, 'best motion picture - comedy or musical', 'best motion picture - drama', 'best performance by an actress in a supporting role in a motion picture', None, 'best television series - comedy or musical', 'best television series - comedy or musical', 'best motion picture - comedy or musical', 'best performance by an actor in a motion picture - drama', 'best animated feature film', None, 'best motion picture - comedy or musical', 'best performance by an actress in a motion picture - drama', 'best screenplay - motion picture', 'best motion picture - comedy or musical', 'best performance by an actress in a supporting role in a motion picture', None, 'best motion picture - drama', 'best performance by an actor in a motion picture - drama', 'best performance by an actress in a supporting role in a motion picture', 'best motion picture - comedy or musical', None, 'best performance by an actress in a supporting role in a motion picture', 'best television series - drama', None, None, None, 'best performance by an actor in a motion picture - drama', None, None, 'best performance by an actor in a television series - comedy or musical', 'best animated feature film', None, None, 'best performance by an actress in a motion picture - drama', None, None, 'best performance by an actor in a television series - drama', None, 'best performance by an actress in a motion picture - comedy or musical', 'best animated feature film', None, 'best performance by an actor in a motion picture - drama', None, 'best performance by an actress in a supporting role in a motion picture', 'best television series - comedy or musical', 'best motion picture - drama', 'best performance by an actress in a motion picture - drama', 'best performance by an actress in a mini-series or motion picture made for television', 'best television series - comedy or musical', None, None, 'best motion picture - drama', None, None, None, 'best television series - comedy or musical', None, None, None, 'best performance by an actor in a supporting role in a motion picture', 'best original song - motion picture', None, 'best performance by an actress in a television series - drama', 'best motion picture - comedy or musical', 'best motion picture - comedy or musical', 'best foreign language film', 'best performance by an actor in a motion picture - drama', 'best motion picture - comedy or musical', 'best foreign language film', None, 'best performance by an actor in a motion picture - comedy or musical', None, 'best foreign language film', 'best motion picture - drama', None, 'best performance by an actor in a television series - drama', 'best motion picture - drama', 'best performance by an actor in a motion picture - comedy or musical', 'best performance by an actress in a television series - drama', 'best performance by an actress in a television series - comedy or musical', None, 'best performance by an actress in a television series - comedy or musical', 'best motion picture - comedy or musical', None, 'best original song - motion picture', 'best performance by an actress in a motion picture - comedy or musical', 'best performance by an actor in a supporting role in a motion picture', None, 'best performance by an actress in a mini-series or motion picture made for television', 'best original score - motion picture', 'best original song - motion picture', None, None, None, 'best performance by an actor in a motion picture - comedy or musical', 'best performance by an actor in a supporting role in a motion picture', 'best motion picture - comedy or musical', None, None, None, 'best foreign language film', 'best performance by an actor in a mini-series or motion picture made for television', 'best performance by an actress in a television series - drama', None, 'best original song - motion picture', 'best performance by an actress in a supporting role in a motion picture', None, None, 'best performance by an actor in a supporting role in a series, mini-series or motion picture made for television', 'best performance by an actress in a supporting role in a motion picture', None, 'best foreign language film', 'best television series - drama', 'best television series - drama', 'best television series - comedy or musical', None, 'best foreign language film', 'best performance by an actress in a motion picture - drama', 'best performance by an actress in a supporting role in a motion picture', 'best performance by an actress in a mini-series or motion picture made for television', None, None, None, None, 'best television series - drama', 'best television series - drama', None, 'best motion picture - drama', 'best foreign language film', 'best screenplay - motion picture', None, None, None, 'best motion picture - comedy or musical', 'best original song - motion picture', None, None, 'best performance by an actor in a motion picture - comedy or musical', None, 'best performance by an actor in a television series - comedy or musical', None, None, 'best performance by an actor in a motion picture - drama']\n"
     ]
    }
   ],
   "source": [
    "print(answers)"
   ]
  },
  {
   "cell_type": "code",
   "execution_count": null,
   "metadata": {},
   "outputs": [],
   "source": []
  }
 ],
 "metadata": {
  "kernelspec": {
   "display_name": "Python 3",
   "language": "python",
   "name": "python3"
  },
  "language_info": {
   "codemirror_mode": {
    "name": "ipython",
    "version": 3
   },
   "file_extension": ".py",
   "mimetype": "text/x-python",
   "name": "python",
   "nbconvert_exporter": "python",
   "pygments_lexer": "ipython3",
   "version": "3.7.2"
  }
 },
 "nbformat": 4,
 "nbformat_minor": 2
}
